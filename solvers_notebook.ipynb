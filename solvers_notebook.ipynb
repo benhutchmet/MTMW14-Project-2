{
 "cells": [
  {
   "cell_type": "code",
   "execution_count": null,
   "metadata": {
    "pycharm": {
     "is_executing": true
    }
   },
   "outputs": [],
   "source": [
    "# import the relevant libraries and dictionaries\n",
    "import numpy as np\n",
    "import matplotlib.pyplot as plt\n",
    "import math\n",
    "from dictionaries import *"
   ]
  },
  {
   "cell_type": "code",
   "execution_count": null,
   "metadata": {},
   "outputs": [
    {
     "ename": "",
     "evalue": "",
     "output_type": "error",
     "traceback": [
      "\u001B[1;31mRunning cells with 'base' requires the ipykernel package.\n",
      "\u001B[1;31mRun the following command to install 'ipykernel' into the Python environment. \n",
      "\u001B[1;31mCommand: 'conda install -n base ipykernel --update-deps --force-reinstall'"
     ]
    }
   ],
   "source": [
    "# Define the analytical solvers for Task C\n",
    "# Define the simple functions first\n",
    "\n",
    "def a_function_analytic(epsilon):\n",
    "    \"\"\"Computes the a coefficient for calculation of the analytic solution of the ocean gyre simulation from Mushgrave (1985).\n",
    "    \n",
    "    Inputs:\n",
    "    epsilon - constant\n",
    "    \n",
    "    Outputs:\n",
    "    value of a coefficient.\n",
    "    \"\"\"\n",
    "    \n",
    "    return (-1 - np.sqrt(1 + (2*np.pi*epsilon)**2)) / (2*epsilon)\n",
    "    \n",
    "def b_function_analytic(epsilon):\n",
    "    \"\"\"Computes the a coefficient for calculation of the analytic solution of the ocean gyre simulation from Mushgrave (1985).    \n",
    "    \n",
    "    Inputs:\n",
    "    epsilon - constant\n",
    "    \n",
    "    Outputs:\n",
    "    value of b coefficient.\n",
    "    \"\"\"\n",
    "    \n",
    "    return (-1 + np.sqrt(1 + (2*np.pi*epsilon)**2)) / (2*epsilon)\n",
    "    \n",
    "def epsilon_function_analytic(gamma, L, beta):\n",
    "    \"\"\"Computes the value of episilon for the calculation of the analytic solution for the ocean gyre simulation from Mushgrave (1985).\n",
    "    \n",
    "    Inputs:\n",
    "    gamma - linear drag coefficient (s^-1)\n",
    "    L - dimensions of computational domain (m)\n",
    "    beta - constant used for B-plane approximation (m^-1 s^-1)\n",
    "    \n",
    "    Outputs:\n",
    "    value of episilon.\n",
    "    \"\"\"\n",
    "    \n",
    "    return gamma / (L*beta)"
   ]
  },
  {
   "cell_type": "code",
   "execution_count": null,
   "metadata": {},
   "outputs": [
    {
     "ename": "",
     "evalue": "",
     "output_type": "error",
     "traceback": [
      "\u001B[1;31mRunning cells with 'base' requires the ipykernel package.\n",
      "\u001B[1;31mRun the following command to install 'ipykernel' into the Python environment. \n",
      "\u001B[1;31mCommand: 'conda install -n base ipykernel --update-deps --force-reinstall'"
     ]
    }
   ],
   "source": [
    "# now define the functions f_1 and f_2 which use the simple functions above\n",
    "\n",
    "def f1_function_analytic(x, a, b):\n",
    "    \"\"\"f_1 function for calculating the analytical solution of the ocean gyre using methods from Mushgrave (1985).\n",
    "\n",
    "    Inputs:\n",
    "    x - the value of the x domain\n",
    "    a - the a coefficient\n",
    "    b - the b coefficient\n",
    "    \n",
    "    Outputs:\n",
    "    value of f1 (at value of x).\n",
    "    \"\"\"\n",
    "    \n",
    "    # compute the numerator\n",
    "    numerator = (math.exp(a) - 1)*b*math.exp(b*x) + (1 - math.exp(b))*math.exp(a*x)\n",
    "    \n",
    "    # compute the denominator\n",
    "    denominator = math.exp(b) - math.exp(a)\n",
    "    \n",
    "    return np.pi*(1 + numerator/denominator)\n",
    "    \n",
    "def f2_function_analytic(x, a, b):\n",
    "    \"\"\"f_2 function for calculating the analytical solution of the ocean gyre using methods from Mushgrave (1985).\n",
    "\n",
    "    Inputs:\n",
    "    x - the value of the x domain\n",
    "    a - the a coefficient\n",
    "    b - the b coefficient\n",
    "    \n",
    "    Outputs:\n",
    "    value of f2 (at value of x).\n",
    "    \"\"\"\n",
    "    \n",
    "    # compute the numerator\n",
    "    numerator = (math.exp(a) - 1)*b*math.exp(b*x) + (1 - math.exp(b))*math.exp(a*x)\n",
    "    \n",
    "    # compute the denominator\n",
    "    denominator = math.exp(b) - math.exp(a)\n",
    "    \n",
    "    return numerator/denominator"
   ]
  },
  {
   "cell_type": "code",
   "execution_count": null,
   "metadata": {},
   "outputs": [
    {
     "ename": "",
     "evalue": "",
     "output_type": "error",
     "traceback": [
      "\u001B[1;31mRunning cells with 'base' requires the ipykernel package.\n",
      "\u001B[1;31mRun the following command to install 'ipykernel' into the Python environment. \n",
      "\u001B[1;31mCommand: 'conda install -n base ipykernel --update-deps --force-reinstall'"
     ]
    }
   ],
   "source": [
    "# define the function for the analytic solution\n",
    "def analytic_solution(params_analytic):\n",
    "    \"\"\"Analytic solver for the SWEs using equations (3), (4) and (5) from project brief specifying //\n",
    "    the solutions at (x, y) using methods from Mushgrave (1985).\n",
    "    \n",
    "    Inputs:\n",
    "    params - the dictionary containing the constants to be used (in this case 'params_analytic')\n",
    "    \n",
    "    Outputs:\n",
    "    x - array of x values\n",
    "    y - array of y values\n",
    "    u - analytic solution for fluid motion in x-direction\n",
    "    v - analytic solution for fluid motion in y-direction\n",
    "    eta - analytic solution for the deviation of water surface from its initial level.\n",
    "    \"\"\"\n",
    "\n",
    "    # extract the number of x and y points from the dictionary\n",
    "    x_points = params_analytic['x_points']\n",
    "    y_points = params_analytic['y_points']\n",
    "\n",
    "    # establish the gridbox size\n",
    "    gridbox_size = params_analytic['gridbox_size']\n",
    "\n",
    "    # define arrays for x and y\n",
    "    x = np.linspace(0, x_points*gridbox_size, x_points)\n",
    "    y = np.linspace(0, y_points*gridbox_size, y_points)\n",
    "\n",
    "    # extract the constants from the dictionary\n",
    "    f0 = params_analytic['f0']\n",
    "    beta = params_analytic['beta']\n",
    "    g = params_analytic['g']\n",
    "    gamma = params_analytic['gamma']\n",
    "    rho = params_analytic['rho']\n",
    "    H = params_analytic['H']\n",
    "    tau0 = params_analytic['tau0']\n",
    "    L = params_analytic['L']\n",
    "    eta0 = params_analytic['eta0']\n",
    "\n",
    "    # define the arrays to store u, v and eta results\n",
    "    # does the value of v being situated on the x-axis //\n",
    "    # and the value of u being situated on the y-axis affect this?\n",
    "    u = np.zeros((x_points, y_points))\n",
    "    v = np.zeros((x_points, y_points))\n",
    "    eta = np.zeros((x_points, y_points))\n",
    "\n",
    "    # start the analysis by computing epsilon\n",
    "    epsilon = epsilon_function_analytic(gamma, L, beta)\n",
    "\n",
    "    # then compute the a and b coefficients\n",
    "    # for use in functions f_1 and f_2\n",
    "    a = a_function_analytic(epsilon)\n",
    "    b = b_function_analytic(epsilon)\n",
    "\n",
    "    # define the coefficient containing tau_0\n",
    "    # to make code in loops easier to read\n",
    "    tau_coeff = tau0 / (np.pi*gamma*rho*H)\n",
    "\n",
    "    # compute u, v and eta for all values of x and y\n",
    "    for i in range(x_points): # i for x\n",
    "        for j in range(y_points): # j for y\n",
    "\n",
    "            # improve readability\n",
    "            sin = np.sin\n",
    "            cos = np.cos\n",
    "            pi = np.pi\n",
    "\n",
    "            # compute the analytic solutions of //\n",
    "            # u, v and eta at [x,y]\n",
    "            # what is the deal with j and i indexing here?\n",
    "\n",
    "            # analytic solution for u[x,y]\n",
    "            u[i, j] = -tau_coeff * f1_function_analytic(x[i]/L, a, b) * cos(pi*y[j]/L)\n",
    "\n",
    "            # analytic solution for v[x,y]\n",
    "            v[i, j] = tau_coeff * f2_function_analytic(x[i]/L, a, b) * sin(pi*y[j]/L)\n",
    "\n",
    "            # analytic solution for eta[x,y]\n",
    "            eta[i, j] = eta0 + tau_coeff * (f0*L/g) * (\n",
    "                gamma/(f0*pi) * f2_function_analytic(x[i]/L, a, b) * cos(pi*y[j]/L)\n",
    "                + 1/pi * f1_function_analytic(x[i]/L, a, b) * (\n",
    "                sin(pi*y[j]/L) * (1 + beta*y[j]/f0)\n",
    "                + beta*L/(f0*pi) * cos(pi*y[j]/L)\n",
    "                    )\n",
    "                )\n",
    "\n",
    "    # return the values for the analytic solution of u, v and eta as well as x and y\n",
    "    return u, v, eta, x, y"
   ]
  },
  {
   "cell_type": "code",
   "execution_count": null,
   "metadata": {},
   "outputs": [
    {
     "ename": "",
     "evalue": "",
     "output_type": "error",
     "traceback": [
      "\u001B[1;31mRunning cells with 'base' requires the ipykernel package.\n",
      "\u001B[1;31mRun the following command to install 'ipykernel' into the Python environment. \n",
      "\u001B[1;31mCommand: 'conda install -n base ipykernel --update-deps --force-reinstall'"
     ]
    }
   ],
   "source": [
    "# define a function for the plotting in Task C\n",
    "def plotting_taskC(params_analytic):\n",
    "    \"\"\"Function for plotting the results of the analytic solution for the ocean gyre simulation.\n",
    "    \n",
    "    Inputs:\n",
    "    params_analytic - the dictionary containing the constants to be used (in this case 'params_analytic')\n",
    "    \n",
    "    Outputs:\n",
    "    None\n",
    "    \"\"\"\n",
    "    \n",
    "    # compute the analytic solution\n",
    "    u, v, eta, x, y = analytic_solution(params_analytic)\n",
    "    \n",
    "    # plot the results as three subplot figures alonside each other\n",
    "    fig, (ax1, ax2, ax3) = plt.subplots(1, 3, figsize=(15, 5))\n",
    "\n",
    "    # plot the results for eta\n",
    "    ax1.set_title('eta analytic')\n",
    "    ax1.set_xlabel('x (km)')\n",
    "    ax1.set_ylabel('y (km)')\n",
    "    ax1.contourf(x, y, eta, 100, cmap='jet')\n",
    "    ax1.set_aspect('equal')\n",
    "    # save fig using string from dictionary\n",
    "    plt.savefig(params_analytic['eta_fig_name'].png)\n",
    "\n",
    "    # plot the results for u\n",
    "    ax2.set_title('u analytic')\n",
    "    ax2.set_xlabel('x (km)')\n",
    "    ax2.set_ylabel('y (km)')\n",
    "    ax2.contourf(x, y, u, 100, cmap='jet')\n",
    "    ax2.set_aspect('equal')\n",
    "    # save fig using string from dictionary\n",
    "    plt.savefig(params_analytic['u_fig_name'].png)\n",
    "\n",
    "    # plot the results for v\n",
    "    ax3.set_title('v analytic')\n",
    "    ax3.set_xlabel('x (km)')\n",
    "    ax3.set_ylabel('y (km)')\n",
    "    ax3.contourf(x, y, v, 100, cmap='jet')\n",
    "    ax3.set_aspect('equal')\n",
    "    # save fig using string from dictionary\n",
    "    plt.savefig(params_analytic['v_fig_name'].png)\n",
    "\n",
    "    # show the plots\n",
    "    plt.show()\n"
   ]
  },
  {
   "cell_type": "code",
   "execution_count": null,
   "metadata": {},
   "outputs": [
    {
     "ename": "",
     "evalue": "",
     "output_type": "error",
     "traceback": [
      "\u001B[1;31mRunning cells with 'base' requires the ipykernel package.\n",
      "\u001B[1;31mRun the following command to install 'ipykernel' into the Python environment. \n",
      "\u001B[1;31mCommand: 'conda install -n base ipykernel --update-deps --force-reinstall'"
     ]
    }
   ],
   "source": [
    "# now test the plotting function\n",
    "plotting_taskC(params_analytic)"
   ]
  }
 ],
 "metadata": {
  "kernelspec": {
   "display_name": "base",
   "language": "python",
   "name": "python3"
  },
  "language_info": {
   "name": "python",
   "version": "3.10.9"
  },
  "orig_nbformat": 4,
  "vscode": {
   "interpreter": {
    "hash": "67bfac4f4aefe1c16f1836a62d55b6e6baa7aba1ac5ce70e93ee8e90eb4f073a"
   }
  }
 },
 "nbformat": 4,
 "nbformat_minor": 2
}
